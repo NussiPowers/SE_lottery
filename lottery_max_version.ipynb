{
 "cells": [
  {
   "cell_type": "code",
   "execution_count": 1,
   "id": "unlike-canyon",
   "metadata": {},
   "outputs": [],
   "source": [
    "# fix long autocomplete in jupyter notebook\n",
    "%config Completer.use_jedi = False"
   ]
  },
  {
   "cell_type": "code",
   "execution_count": 2,
   "id": "juvenile-machinery",
   "metadata": {},
   "outputs": [],
   "source": [
    "import os\n",
    "import xlwt\n",
    "import pandas as pd\n",
    "from datetime import datetime\n",
    "from random import sample\n",
    "from pathlib import Path"
   ]
  },
  {
   "cell_type": "code",
   "execution_count": 3,
   "id": "senior-directive",
   "metadata": {},
   "outputs": [],
   "source": [
    "forms_dir = Path('../2020-02-11_handout/')\n",
    "result_dir = forms_dir\n",
    "\n",
    "TC_filename           = r'SE T&C Form.csv'\n",
    "applications_filename = r'SE Application Form.csv'\n",
    "inventory_filename    = r'SE Inventory - Inventory.csv'"
   ]
  },
  {
   "cell_type": "code",
   "execution_count": 4,
   "id": "intense-antique",
   "metadata": {},
   "outputs": [],
   "source": [
    "# build all the paths to the input and output files\n",
    "result_filename = '{}_handout.xls'.format(datetime.strftime(datetime.today(), '%Y-%m-%d'))\n",
    "\n",
    "TC_path           = Path(forms_dir, TC_filename)\n",
    "inventory_path    = Path(forms_dir, inventory_filename)\n",
    "applications_path = Path(forms_dir, applications_filename)\n",
    "\n",
    "result_path       = Path(result_dir, result_filename)\n",
    "\n",
    "for path in [TC_path, inventory_path, applications_path]:\n",
    "    if not os.path.isfile(path):\n",
    "        raise ValueError('{} does not exist. Check input files.'.format(path))\n",
    "\n",
    "# if the directory for the results does not exist, make it\n",
    "if not os.path.isdir(result_path.parent):\n",
    "    os.mkdir(result_path.parent)"
   ]
  },
  {
   "cell_type": "code",
   "execution_count": 5,
   "id": "consecutive-account",
   "metadata": {},
   "outputs": [],
   "source": [
    "# read the files\n",
    "applications = pd.read_csv(applications_path,\n",
    "                           usecols=['Timestamp', 'Username', 'Name', 'Equipment Sjoeskrenten', 'Equipment Ski/Snowscooter'],\n",
    "                           parse_dates=['Timestamp'],\n",
    "                           dtype={'Equipment Sjoeskrenten': str, 'Equipment Ski/Snowscooter': str})\n",
    "tc_form = pd.read_csv(TC_path, usecols=['Name', 'E-Mail'])\n",
    "inventory = pd.read_csv(inventory_path)"
   ]
  },
  {
   "cell_type": "code",
   "execution_count": 6,
   "id": "empirical-notice",
   "metadata": {},
   "outputs": [],
   "source": [
    "# get indices, where inventory of the containers start and ent\n",
    "start_sk_inventory = inventory.index[inventory['Name'] == 'Sjoeskrenten Container:'].to_list()[0]\n",
    "end_sk_inventory   = inventory.index[inventory['Name'] == 'Snowscooter Container:'].to_list()[0]\n",
    "\n",
    "# split for sjoerskrenten and snowscooter containers\n",
    "sk_inventory = inventory.iloc[start_sk_inventory + 1:end_sk_inventory, :].copy()\n",
    "ss_inventory = inventory.iloc[end_sk_inventory + 1: ,:].copy()\n",
    "\n",
    "# shift indices to match line numbers\n",
    "sk_inventory = sk_inventory.shift(2)\n",
    "ss_inventory = ss_inventory.shift(2)\n",
    "\n",
    "# drop empty lines, only keep those with items in 'Name'\n",
    "sk_inventory.dropna(subset=['Name'], inplace=True)\n",
    "ss_inventory.dropna(subset=['Name'], inplace=True)"
   ]
  },
  {
   "cell_type": "code",
   "execution_count": 7,
   "id": "incomplete-affiliation",
   "metadata": {},
   "outputs": [],
   "source": [
    "# drop duplicates in applications\n",
    "# search for duplicates in Name and Username sepereately, with both in a list it will only find duplicates with both\n",
    "applications.drop_duplicates('Name', keep='last', inplace=True)\n",
    "applications.drop_duplicates('Username', keep='last', inplace=True)\n",
    "\n",
    "# change column names for quicker typing\n",
    "applications.rename(columns={'Equipment Sjoeskrenten':'SK', 'Equipment Ski/Snowscooter':'SS'}, inplace=True)"
   ]
  },
  {
   "cell_type": "code",
   "execution_count": 8,
   "id": "homeless-visibility",
   "metadata": {},
   "outputs": [],
   "source": [
    "#ToDO: kick out people who did not sign T&C and who are behind deadline"
   ]
  },
  {
   "cell_type": "code",
   "execution_count": 9,
   "id": "round-violence",
   "metadata": {},
   "outputs": [
    {
     "name": "stdout",
     "output_type": "stream",
     "text": [
      "wrong format for Simmen Karoliussen  in SK list\n",
      "Avalanche safety kit, GPS\n",
      "wrong format for Simmen Karoliussen  in SS list\n",
      "Boots 44, Suit, Snowmobile sled\n",
      "wrong format for Jonathan Ackroyd in SK list\n",
      "Avalanche safety kit, headlamp \n",
      "wrong format for Jonathan Ackroyd in SS list\n",
      "Randonee Skis, Randonee Ski boots 43, \n",
      "wrong format for Jan Detampel  in SK list\n",
      "9\n",
      "43\n",
      "70\n",
      "wrong format for Jan Detampel  in SS list\n",
      "105 \n",
      "108\n",
      "109\n",
      "120\n",
      "143\n",
      "168\n"
     ]
    }
   ],
   "source": [
    "# loop through applications and put the items on 'want list' and put in, who wants them\n",
    "want_dict_sk = {}\n",
    "want_dict_ss = {}\n",
    "\n",
    "for _, person in applications.iterrows():\n",
    "    itemlist_SS = []\n",
    "    itemlist_SK = []\n",
    "    # clean up input and make items into list of integers\n",
    "    # if input does not convert to integers, skip it\n",
    "    try:\n",
    "        clean = person['SK'].rstrip(', ')\n",
    "        itemlist_SK = [int(s.lstrip(' ')) for s in clean.split(',')]\n",
    "    except:\n",
    "        pass\n",
    "        if str(person['SK']) != 'nan':\n",
    "            print('wrong format for', person['Name'], 'in SK list')\n",
    "            print(person['SK'])\n",
    "    try:\n",
    "        clean = person['SS'].rstrip(', ')\n",
    "        itemlist_SS = [int(s.lstrip(' ')) for s in clean.split(',')]\n",
    "    except:\n",
    "        pass\n",
    "        if str(person['SS']) != 'nan':\n",
    "            print('wrong format for', person['Name'], 'in SS list')\n",
    "            print(person['SS'])\n",
    "\n",
    "    # add items to want dict, put people onto items\n",
    "    for item in itemlist_SK:\n",
    "        if item not in sk_inventory.index.to_list(): # check if item is in the inventory list\n",
    "            pass\n",
    "        else:\n",
    "            if item in want_dict_sk.keys(): # if item is already in the list, append the new name\n",
    "                want_dict_sk[item] = want_dict_sk[item] + [person['Name']]\n",
    "            else:\n",
    "                want_dict_sk[item] = [person['Name']]\n",
    "    \n",
    "    for item in itemlist_SS:\n",
    "        if item not in ss_inventory.index.to_list(): # check if item is in the inventory list\n",
    "            pass\n",
    "        else:\n",
    "            if item in want_dict_ss.keys(): # if item is already in the list, append the new name\n",
    "                want_dict_ss[item] = want_dict_ss[item] + [person['Name']]\n",
    "            else:\n",
    "                want_dict_ss[item] = [person['Name']]"
   ]
  },
  {
   "cell_type": "code",
   "execution_count": 10,
   "id": "special-current",
   "metadata": {},
   "outputs": [],
   "source": [
    "# check demand of every item, and if neccessary, do the lottery\n",
    "\n",
    "# SK container\n",
    "won_dict_sk = {}\n",
    "for item, applicants in want_dict_sk.items():\n",
    "    demand = len(applicants)\n",
    "    stock = sk_inventory['Number'][item]\n",
    "    \n",
    "    if demand > stock:\n",
    "        won = sample(applicants, int(stock))\n",
    "        won_dict_sk[item] = won\n",
    "    else:\n",
    "        won_dict_sk[item] = applicants"
   ]
  },
  {
   "cell_type": "code",
   "execution_count": 11,
   "id": "acoustic-packaging",
   "metadata": {},
   "outputs": [],
   "source": [
    "# pay special attention to the skis and boots and poles\n",
    "# do the lottery for skis only. Everybody who gets skis, will get boots\n",
    "ski_names = ('Fjell skis /w Telemark 3-pin binding', 'Fjell skis /w BC binding', 'Cross country skis', 'Randonee skis', 'Freeride skis', 'Snowboard')\n",
    "won_dict_ski_readable = {ski:[] for ski in ski_names}\n",
    "ski_indices = {}\n",
    "\n",
    "for ski in ski_names:\n",
    "    # get the item numbers for every ski type\n",
    "    items_skis = ss_inventory.index[[ski == name for name in ss_inventory['Name']]]\n",
    "    ski_indices[ski] = items_skis\n",
    "    \n",
    "# for every ski type, check who wants it\n",
    "for ski in ski_names:\n",
    "    # iterate through all ski types\n",
    "    for item in ski_indices[ski]:\n",
    "        # check if skis are requested\n",
    "        if item in want_dict_ss.keys():\n",
    "            applicants = want_dict_ss[item]\n",
    "            demand = len(applicants)\n",
    "            stock = ss_inventory['Number'][item]\n",
    "            \n",
    "            if demand > stock:\n",
    "                won = sample(applicants, int(stock))\n",
    "                won_dict_ski_readable[ski] += won\n",
    "            else:\n",
    "                won_dict_ski_readable[ski] += applicants\n",
    "\n",
    "won_dict_ski = {}\n",
    "# make a dict with the written name, better to check\n",
    "for ski, people in won_dict_ski_readable.items():\n",
    "    item = ski_indices[ski][0]\n",
    "    won_dict_ski[item] = people"
   ]
  },
  {
   "cell_type": "code",
   "execution_count": 12,
   "id": "indonesian-recommendation",
   "metadata": {},
   "outputs": [],
   "source": [
    "# Lottery on boots is kind of useless. When people got skis, they just have to find some boots that fit.\n",
    "# If you do the lottery on boots too, it is possible that someone gets skis, but no boots\n",
    "# rather do the lottery on skins"
   ]
  },
  {
   "cell_type": "code",
   "execution_count": 13,
   "id": "experimental-xerox",
   "metadata": {},
   "outputs": [],
   "source": [
    "# boots only for people who got skis\n",
    "boot_names = ('Fjellski shoes Telemark', 'Fjellski shoes BC', 'Cross Country shoes', 'Randonne ski boots', 'Freeride Boots', 'Snow board boots')\n",
    "boot_indices = {}\n",
    "\n",
    "won_dict_boots = {}\n",
    "\n",
    "for boots in boot_names:\n",
    "    # get the item numbers for every boot type\n",
    "    items_boots = ss_inventory.index[[boots in name for name in ss_inventory['Name']]]\n",
    "    boot_indices[boots] = items_boots # save inventory numbers for every kind of boot"
   ]
  },
  {
   "cell_type": "raw",
   "id": "floral-reserve",
   "metadata": {},
   "source": [
    "# go through list of ski winners\n",
    "for ski, people in won_dict_ski_readable.items():        \n",
    "    # find boots for skis\n",
    "    index = ski_names.index(ski) # order of boot_names and order of ski_names has to match up\n",
    "    boots = boot_names[index]\n",
    "    \n",
    "    # find inventory numbers of those boots\n",
    "    items = boot_indices[boots]\n",
    "    # check demand for every inventory number\n",
    "    for item in items:\n",
    "        if item in want_dict_ss.keys(): # check if anybody wants this size of boots\n",
    "            applicants = want_dict_ss[item]\n",
    "            demand = len(applicants)\n",
    "            stock = ss_inventory['Number'][item]\n",
    "\n",
    "            if demand > stock:\n",
    "                won = sample(applicants, int(stock))\n",
    "                won_dict_boots[item] = won\n",
    "            else:\n",
    "                won_dict_boots[item] = applicants"
   ]
  },
  {
   "cell_type": "code",
   "execution_count": 14,
   "id": "personalized-horse",
   "metadata": {},
   "outputs": [],
   "source": [
    "# delete skis and boots from want list snow scooter to not do the lottery on them again\n",
    "\n",
    "indices_to_delete = []\n",
    "for index in ski_indices.values():\n",
    "    indices_to_delete += [i for i in index]\n",
    "\n",
    "for index in boot_indices.values():\n",
    "    indices_to_delete += [i for i in index]\n",
    "\n",
    "for index in indices_to_delete:\n",
    "    if index in want_dict_ss.keys(): # only delte stuff from the list, if it is really in there\n",
    "        del want_dict_ss[index]"
   ]
  },
  {
   "cell_type": "code",
   "execution_count": 15,
   "id": "spanish-supervisor",
   "metadata": {},
   "outputs": [],
   "source": [
    "# Lottery for the rest of the container\n",
    "# check demand of every item, and if neccessary, do the lottery\n",
    "\n",
    "# SS container\n",
    "won_dict_ss = {}\n",
    "for item, applicants in want_dict_ss.items():\n",
    "    demand = len(applicants)\n",
    "    stock = ss_inventory['Number'][item]\n",
    "    \n",
    "    if demand > stock:\n",
    "        won = sample(applicants, int(stock))\n",
    "        won_dict_ss[item] = won\n",
    "    else:\n",
    "        won_dict_ss[item] = applicants"
   ]
  },
  {
   "cell_type": "code",
   "execution_count": 16,
   "id": "entire-briefing",
   "metadata": {},
   "outputs": [],
   "source": [
    "# now go through all the winner lists and gather the items one person has won\n",
    "winner_sk = {}\n",
    "winner_ss = {}\n",
    "\n",
    "for item, winners in won_dict_sk.items():\n",
    "    item_name = sk_inventory['Name'][item]\n",
    "    for person in winners:\n",
    "        if person in winner_sk.keys():\n",
    "            winner_sk[person] += [item]\n",
    "        else:\n",
    "            winner_sk[person] = [item]\n",
    "\n",
    "for _dict in [won_dict_ss, won_dict_boots, won_dict_ski]:\n",
    "    for item, winners in _dict.items():\n",
    "        item_name = ss_inventory['Name'][item]\n",
    "        for person in winners:\n",
    "            if person in winner_ss.keys():\n",
    "                winner_ss[person] += [item]\n",
    "            else:\n",
    "                winner_ss[person] = [item]"
   ]
  },
  {
   "cell_type": "code",
   "execution_count": 17,
   "id": "baking-arabic",
   "metadata": {},
   "outputs": [],
   "source": [
    "# use item names instead of numbers\n",
    "winner_sk_readable = {}\n",
    "for winner, item in winner_sk.items():\n",
    "    names = [sk_inventory['Name'][i] for i in item]\n",
    "    winner_sk_readable[winner] = names\n",
    "    \n",
    "winner_ss_readable = {}\n",
    "for winner, item in winner_ss.items():\n",
    "    names = [ss_inventory['Name'][i] for i in item]\n",
    "    winner_ss_readable[winner] = names"
   ]
  },
  {
   "cell_type": "code",
   "execution_count": 18,
   "id": "disturbed-rebound",
   "metadata": {},
   "outputs": [],
   "source": [
    "# sort winner alphabeticaly\n",
    "sorted_sk = {}\n",
    "for name, items in sorted(winner_sk_readable.items()):\n",
    "    sorted_sk[name] = items\n",
    "\n",
    "sorted_ss = {}\n",
    "for name, items in sorted(winner_ss_readable.items()):\n",
    "    sorted_ss[name] = items"
   ]
  },
  {
   "cell_type": "code",
   "execution_count": 19,
   "id": "atmospheric-sterling",
   "metadata": {},
   "outputs": [],
   "source": [
    "# write everything to an excel sheet\n",
    "\n",
    "wb = xlwt.Workbook() \n",
    "line_width = 20\n",
    "\n",
    "style_header_container = xlwt.easyxf(\"alignment: wrap True; font: bold on, height 280\")\n",
    "style_header           = xlwt.easyxf(\"alignment: wrap True; borders: left thin, right thin, top thin, bottom thin; font: bold on\")\n",
    "style                  = xlwt.easyxf(\"alignment: wrap True, vert centre; borders: left thin, right thin, top thin, bottom thin\")\n",
    "\n",
    "  \n",
    "# create the first sheet for the Sjoeskrenten results\n",
    "sheet_sk = wb.add_sheet('Sjoeskrenten')\n",
    "# create the second sheet for the Snowscooter results\n",
    "sheet_ss = wb.add_sheet('Snowscooter')\n",
    "\n",
    "for sheet, result, header in zip([sheet_sk, sheet_ss], [sorted_sk, sorted_ss], ['Sjoeskrenten', 'Snowscooter']):\n",
    "    # set size for columns\n",
    "    sheet.col(0).width = 256 * line_width + 1000\n",
    "    sheet.col(1).width = 256 * line_width + 2000\n",
    "\n",
    "    sheet.col(2).width = 4000\n",
    "    sheet.col(3).width = 5000\n",
    "\n",
    "    sheet.write_merge(0, 0, 0, 1, '{h} {a}'.format(h=header, a=datetime.strftime(datetime.today(), '%d.%m.%Y')), style_header_container)\n",
    "    sheet.row(0).height_mismatch = True       # for the adjustment of the row height\n",
    "    sheet.row(0).height = 400\n",
    "\n",
    "    # write header\n",
    "    sheet.write(2, 0, 'Name', style_header)\n",
    "    sheet.write(2, 1, 'Equipment', style_header)\n",
    "    sheet.write(2, 2, 'Comments', style_header)\n",
    "    sheet.write(2, 3, 'Signature', style_header)\n",
    "\n",
    "    row = 3 #start row\n",
    "    for name, items in result.items():\n",
    "        # separate items by linebreak\n",
    "        formatted_items = ''\n",
    "        sheet.write(row, 0, name, style)\n",
    "        for item in items:\n",
    "            formatted_items = formatted_items + '\\n' + item\n",
    "\n",
    "        sheet.write(row, 1, formatted_items, style)\n",
    "        sheet.row(row).height_mismatch = True\n",
    "        sheet.row(row).height = (len(items) + 2) * 256\n",
    "        sheet.write(row, 2, '', style)\n",
    "        sheet.write(row, 3, '', style)\n",
    "\n",
    "        row = row + 1\n",
    "    \n",
    "wb.save(result_path)"
   ]
  },
  {
   "cell_type": "code",
   "execution_count": 20,
   "id": "clear-simple",
   "metadata": {},
   "outputs": [
    {
     "name": "stdout",
     "output_type": "stream",
     "text": [
      "Written results to ../2020-02-11_handout/2021-02-11_handout.xls\n"
     ]
    }
   ],
   "source": [
    "print('Written results to {}'.format(result_path))\n",
    "print('Done.')"
   ]
  }
 ],
 "metadata": {
  "kernelspec": {
   "display_name": "Python 3",
   "language": "python",
   "name": "python3"
  },
  "language_info": {
   "codemirror_mode": {
    "name": "ipython",
    "version": 3
   },
   "file_extension": ".py",
   "mimetype": "text/x-python",
   "name": "python",
   "nbconvert_exporter": "python",
   "pygments_lexer": "ipython3",
   "version": "3.8.3"
  }
 },
 "nbformat": 4,
 "nbformat_minor": 5
}
