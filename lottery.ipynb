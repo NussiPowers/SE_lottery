{
 "cells": [
  {
   "cell_type": "code",
   "execution_count": 1,
   "id": "loving-crowd",
   "metadata": {},
   "outputs": [],
   "source": [
    "# fix long autocomplete in jupyter notebook\n",
    "%config Completer.use_jedi = False"
   ]
  },
  {
   "cell_type": "code",
   "execution_count": 2,
   "id": "determined-processor",
   "metadata": {},
   "outputs": [],
   "source": [
    "import os\n",
    "import xlwt\n",
    "import pickle\n",
    "import pandas as pd\n",
    "from datetime import datetime\n",
    "from random import sample, shuffle\n",
    "from pathlib import Path"
   ]
  },
  {
   "cell_type": "code",
   "execution_count": 3,
   "id": "proprietary-commissioner",
   "metadata": {},
   "outputs": [],
   "source": [
    "forms_dir = Path('/home/max/Downloads/SE_forms/2021-04-07')\n",
    "result_dir = Path(forms_dir, 'results_test')\n",
    "\n",
    "last_lottery = '2021-03-24 16:00'\n",
    "deadline = '2021-04-07 16:00'\n",
    "\n",
    "use_last_lottery = False # for results with tick marks, not yet done\n",
    "\n",
    "TC_filename           = r'SE T&C Form.csv'\n",
    "applications_filename = r'SE Application Form.csv'\n",
    "inventory_filename    = r'SE Inventory - Inventory.csv'\n",
    "\n",
    "winner_file_ss = 'winner_file_ss.pickle'\n",
    "winner_file_sk = 'winner_file_sk.pickle'"
   ]
  },
  {
   "cell_type": "code",
   "execution_count": 4,
   "id": "developed-instrument",
   "metadata": {},
   "outputs": [],
   "source": [
    "def do_lottery(want_dict, inventory):\n",
    "    won_dict = {}\n",
    "    \n",
    "    for item, applicants in want_dict.items():\n",
    "        demand = len(applicants)\n",
    "        stock = inventory['Number'][item]\n",
    "        \n",
    "        # check demand\n",
    "        if demand > stock:\n",
    "            # draw random sample\n",
    "            won = sample(applicants, int(stock))\n",
    "            won_dict[item] = won\n",
    "            # print('item', item, 'stock', stock, 'applicants', len(applicants), 'winners', len(won), won)\n",
    "        else:\n",
    "            # enough items -> everybody gets one\n",
    "            won_dict[item] = applicants\n",
    "        \n",
    "    return won_dict"
   ]
  },
  {
   "cell_type": "code",
   "execution_count": 5,
   "id": "forty-bidding",
   "metadata": {},
   "outputs": [],
   "source": [
    "# only use first and last names\n",
    "def first_last(df):\n",
    "    names_first_last = [name.rstrip(' ') for name in df['Name']]\n",
    "    names_first_last = [name.split(' ')[0] + ' ' + name.split(' ')[-1] for name in names_first_last]\n",
    "    \n",
    "    return names_first_last"
   ]
  },
  {
   "cell_type": "code",
   "execution_count": 6,
   "id": "binary-plane",
   "metadata": {},
   "outputs": [],
   "source": [
    "# build all the paths to the input and output files\n",
    "result_filename = '{}_handout.xls'.format(datetime.strftime(datetime.today(), '%Y-%m-%d'))\n",
    "\n",
    "TC_path           = Path(forms_dir, TC_filename)\n",
    "inventory_path    = Path(forms_dir, inventory_filename)\n",
    "applications_path = Path(forms_dir, applications_filename)\n",
    "\n",
    "result_path       = Path(result_dir, result_filename)\n",
    "\n",
    "for path in [TC_path, inventory_path, applications_path]:\n",
    "    if not os.path.isfile(path):\n",
    "        raise ValueError('{} does not exist. Check input files.'.format(path))\n",
    "\n",
    "# if the directory for the results does not exist, make it\n",
    "if not os.path.isdir(result_path.parent):\n",
    "    os.mkdir(result_path.parent)"
   ]
  },
  {
   "cell_type": "code",
   "execution_count": 7,
   "id": "raising-world",
   "metadata": {},
   "outputs": [],
   "source": [
    "# read the files\n",
    "applications = pd.read_csv(applications_path,\n",
    "                           usecols=['Timestamp', 'terms and conditions', 'Username', 'Name', 'Equipment Sjoeskrenten', 'Equipment Ski/Snowscooter'],\n",
    "                           parse_dates=['Timestamp'],\n",
    "                           dtype={'Equipment Sjoeskrenten': str, 'Equipment Ski/Snowscooter': str})\n",
    "tc_form = pd.read_csv(TC_path, usecols=['Name', 'E-Mail'])\n",
    "inventory = pd.read_csv(inventory_path, index_col=0)"
   ]
  },
  {
   "cell_type": "code",
   "execution_count": 8,
   "id": "registered-ceiling",
   "metadata": {},
   "outputs": [],
   "source": [
    "# drop everything that is not an inventory item, eg headers\n",
    "inventory = inventory[inventory.index.notna()]\n",
    "\n",
    "end_sk_inventory = 999 # all ss container stuff is bigger than 1000\n",
    "\n",
    "# split for sjoerskrenten and snowscooter containers\n",
    "sk_inventory = inventory[inventory.index <= end_sk_inventory]\n",
    "ss_inventory = inventory[inventory.index > end_sk_inventory]"
   ]
  },
  {
   "cell_type": "code",
   "execution_count": 9,
   "id": "nominated-blogger",
   "metadata": {},
   "outputs": [],
   "source": [
    "# drop duplicates in applications\n",
    "# search for duplicates in Name and Username sepereately, with both in a list it will only find duplicates with both\n",
    "applications.drop_duplicates('Name', keep='last', inplace=True)\n",
    "applications.drop_duplicates('Username', keep='last', inplace=True)\n",
    "\n",
    "# change column names for quicker typing\n",
    "applications.rename(columns={'Equipment Sjoeskrenten':'SK', 'Equipment Ski/Snowscooter':'SS'}, inplace=True)"
   ]
  },
  {
   "cell_type": "code",
   "execution_count": 10,
   "id": "thirty-apparel",
   "metadata": {},
   "outputs": [],
   "source": [
    "tc_first_last = first_last(tc_form)\n",
    "applications_first_last = first_last(applications)"
   ]
  },
  {
   "cell_type": "code",
   "execution_count": 11,
   "id": "positive-masters",
   "metadata": {},
   "outputs": [],
   "source": [
    "# check if applications were submitted in the time frame\n",
    "deadline = datetime.strptime(deadline, '%Y-%m-%d %H:%M')\n",
    "lasttime = datetime.strptime(last_lottery, '%Y-%m-%d %H:%M')\n",
    "\n",
    "# remove the timezone data from the applications, so they can be compared to the deadline\n",
    "application_times = [t.replace(tzinfo=None) for t in applications['Timestamp']]\n",
    "before_deadline = [t < deadline for t in application_times]\n",
    "\n",
    "# kick out people who are after deadline\n",
    "applications = applications[before_deadline]\n",
    "\n",
    "# kick out applications that date before the last lottery\n",
    "application_times = [t.replace(tzinfo=None) for t in applications['Timestamp']]\n",
    "after_last = [t > lasttime for t in application_times]\n",
    "\n",
    "applications = applications[after_last]"
   ]
  },
  {
   "cell_type": "code",
   "execution_count": 12,
   "id": "intended-shirt",
   "metadata": {},
   "outputs": [],
   "source": [
    "# drop terms and conditions deniers (should only occur with too old data)\n",
    "applications = applications[applications['terms and conditions'].notna()]"
   ]
  },
  {
   "cell_type": "raw",
   "id": "seventh-frontier",
   "metadata": {},
   "source": [
    "# create list of booleans, True if person has signed\n",
    "# check if name is in both lists\n",
    "signed_tc = [n in tc_first_last for n in applications_first_last]\n",
    "# check if e mail is in both list\n",
    "mail_in_tc = [user.lower() in [i.lower() for i in tc_form['E-Mail']] for user in applications['Username']]\n",
    "# make sure, one is true\n",
    "didnt = [not i for i in signed_tc or mail_in_tc]\n",
    "\n",
    "# blame people who couldn't do it\n",
    "did_not_sign = applications[didnt]['Name']\n",
    "\n",
    "print('people who applied, but did not sign:')\n",
    "print([name for name in did_not_sign])\n",
    "\n",
    "# kick out the people who didn't sign\n",
    "applications = applications[[not i for i in didnt]]"
   ]
  },
  {
   "cell_type": "code",
   "execution_count": 13,
   "id": "usual-allowance",
   "metadata": {},
   "outputs": [],
   "source": [
    "# loop through applications and put the items on 'want list' and put in, who wants them\n",
    "want_dict_sk = {}\n",
    "want_dict_ss = {}\n",
    "\n",
    "for _, person in applications.iterrows():\n",
    "    itemlist_SS = []\n",
    "    itemlist_SK = []\n",
    "    # clean up input and make items into list of integers\n",
    "    # if input does not convert to integers, skip it\n",
    "    try:\n",
    "        clean = person['SK'].rstrip(', ')\n",
    "        itemlist_SK = [int(s.lstrip(' ')) for s in clean.split(',')]\n",
    "    except:\n",
    "        pass\n",
    "        if str(person['SK']) != 'nan':\n",
    "            print('wrong format for', person['Name'], 'in SK list')\n",
    "            print(person['SK'])\n",
    "    try:\n",
    "        clean = person['SS'].rstrip(', ')\n",
    "        itemlist_SS = [int(s.lstrip(' ')) for s in clean.split(',')]\n",
    "    except:\n",
    "        pass\n",
    "        if str(person['SS']) != 'nan':\n",
    "            print('wrong format for', person['Name'], 'in SS list')\n",
    "            print(person['SS'])\n",
    "\n",
    "    # add items to want dict, put people onto items\n",
    "    for item in itemlist_SK:\n",
    "        if item not in sk_inventory.index.to_list(): # check if item is in the inventory list\n",
    "            pass\n",
    "        else:\n",
    "            if item in want_dict_sk.keys(): # if item is already in the list, append the new name\n",
    "                want_dict_sk[item] = want_dict_sk[item] + [person['Name']]\n",
    "            else:\n",
    "                want_dict_sk[item] = [person['Name']]\n",
    "    \n",
    "    for item in itemlist_SS:\n",
    "        if item not in ss_inventory.index.to_list(): # check if item is in the inventory list\n",
    "            pass\n",
    "        else:\n",
    "            if item in want_dict_ss.keys(): # if item is already in the list, append the new name\n",
    "                want_dict_ss[item] = want_dict_ss[item] + [person['Name']]\n",
    "            else:\n",
    "                want_dict_ss[item] = [person['Name']]"
   ]
  },
  {
   "cell_type": "code",
   "execution_count": 14,
   "id": "collectible-lodge",
   "metadata": {},
   "outputs": [],
   "source": [
    "# ToDo: change this so it doesn't rely on names. Now the numbers should be static anyways\n",
    "# pay special attention to the skis and boots and poles\n",
    "# do the lottery for skis only. Everybody who gets skis, will get boots\n",
    "ski_names = ['Fjell skis /w Telemark 3-pin binding', 'Fjell skis /w BC binding', 'Cross country skis', 'Randonee skis', 'Freeride skis', 'Snowboard']\n",
    "ski_ind_list = [1119, 1120, 1121, 1122, 1123, 1124]\n",
    "#ski_names = ['Fjell skis /w Telemark 3-pin binding', 'Fjell skis /w BCSM bondage', 'Cross country skis', 'Randonee skis', 'Freeride skis', 'Snowhoard']\n",
    "won_dict_ski_readable = {ski:[] for ski in ski_names}\n",
    "ski_indices = {}"
   ]
  },
  {
   "cell_type": "code",
   "execution_count": 15,
   "id": "eligible-stack",
   "metadata": {},
   "outputs": [],
   "source": [
    "for ski, ind in zip(ski_names, ski_ind_list):\n",
    "    ski_indices[ski] = ind"
   ]
  },
  {
   "cell_type": "raw",
   "id": "rational-reflection",
   "metadata": {},
   "source": [
    "for ski in ski_names:\n",
    "    # get the item numbers for every ski type\n",
    "    items_skis = ss_inventory.index[[ski == name for name in ss_inventory['Name']]]\n",
    "    ski_indices[ski] = items_skis"
   ]
  },
  {
   "cell_type": "code",
   "execution_count": 16,
   "id": "smooth-cartridge",
   "metadata": {},
   "outputs": [],
   "source": [
    "# who wants what type of skis?\n",
    "want_dict_skis = {}\n",
    "for i in ski_ind_list:\n",
    "    want_dict_skis[i] = want_dict_ss[i]"
   ]
  },
  {
   "cell_type": "code",
   "execution_count": 37,
   "id": "smooth-syndication",
   "metadata": {},
   "outputs": [],
   "source": [
    "# shuffle, so that there is no bias for handing out skis because of the order in ski_names\n",
    "shuffle(ski_names)\n",
    "won_dict_ski = {i:[] for i in ski_indices.values()}\n",
    "\n",
    "for item in ski_indices.values():\n",
    "    if item in want_dict_ss.keys():\n",
    "        applicants_all = set(want_dict_ss[item]) # don't let people apply twice for skis to increase chances\n",
    "\n",
    "        # delete applicants who already have an other type of ski\n",
    "        already_won = []\n",
    "        # make list of people who already won skis\n",
    "        for winners in won_dict_ski.values():\n",
    "            already_won += winners\n",
    "\n",
    "        # delete winners form list of applicants, so they don't get two pairs of skis\n",
    "        applicants = [person for person in applicants_all if person not in already_won]\n",
    "\n",
    "        demand = len(applicants)\n",
    "        stock = ss_inventory['Number'][item]\n",
    "\n",
    "        if demand > stock:\n",
    "            won = sample(applicants, int(stock))\n",
    "            won_dict_ski[item] += won\n",
    "        else:\n",
    "            won_dict_ski[item] += applicants\n",
    "                    "
   ]
  },
  {
   "cell_type": "code",
   "execution_count": 39,
   "id": "incomplete-pharmacy",
   "metadata": {},
   "outputs": [
    {
     "data": {
      "text/plain": [
       "['Jonas Doerk', 'Thibault Desjonquères']"
      ]
     },
     "execution_count": 39,
     "metadata": {},
     "output_type": "execute_result"
    }
   ],
   "source": [
    "want_dict_skis[1123]"
   ]
  },
  {
   "cell_type": "code",
   "execution_count": 42,
   "id": "exclusive-juice",
   "metadata": {},
   "outputs": [
    {
     "data": {
      "text/plain": [
       "'Freeride skis'"
      ]
     },
     "execution_count": 42,
     "metadata": {},
     "output_type": "execute_result"
    }
   ],
   "source": [
    "ss_inventory['Name'][1123]"
   ]
  },
  {
   "cell_type": "code",
   "execution_count": 38,
   "id": "diverse-absorption",
   "metadata": {},
   "outputs": [
    {
     "name": "stdout",
     "output_type": "stream",
     "text": [
      "{1119: ['Max Nüßle', 'Fabian Zgiet', 'Mariska Maria Hoogkamer ', 'Rainette Engbers', 'Miriam Bentke', 'Jonathan William Gair Ackroyd', 'Bradleigh Kerrigan', 'Antoine MYSKIW', 'Thibault Desjonquères', 'Lotte van Hazendonk', 'Xenia Uffrecht', 'Alec Sherrill', 'Daria Paul'], 1120: ['Emma van der Ploeg', 'Daniel Heineken', 'Eleanor Ruth Handler', 'Sebastian Andersen', 'Emma Djurberg', 'Gregory Kennedy', 'Torstein Jacobsen Eide', 'Jonas Doerk', 'Julia Steckling', 'Philipp Alexander Scheiner', 'Elaine Runge'], 1121: ['Alexandra Pliss', 'Fleur Ekelmans'], 1122: ['Liz McMaster', 'Renato Sperandio Rodrigues', 'Piitu Kurttila', 'Daniela Walch'], 1123: [], 1124: ['Julia Hetmanek', 'Erle Birkeland ']}\n"
     ]
    }
   ],
   "source": [
    "print(won_dict_ski)"
   ]
  },
  {
   "cell_type": "raw",
   "id": "needed-rouge",
   "metadata": {},
   "source": [
    "# shuffle, so that there is no bias for handing out skis because of the order in ski_names\n",
    "shuffle(ski_names)\n",
    "won_dict_ski = {}\n",
    "\n",
    "# for every ski type, check who wants it\n",
    "for ski in ski_names:\n",
    "#for item in ski_indices.values():\n",
    "    # iterate through all ski types\n",
    "    for item in ski_indices[ski]:\n",
    "    # check if skis are requested\n",
    "        if item in want_dict_ss.keys():\n",
    "            applicants_all = want_dict_ss[item]\n",
    "            applicants_all = set(applicants_all) # don't let people apply twice for skis to increase chances\n",
    "\n",
    "            # delete applicants who already have an other type of ski\n",
    "            already_won = []\n",
    "            # make list of people who already won skis\n",
    "            for winners in won_dict_ski_readable.values():\n",
    "                already_won += winners\n",
    "\n",
    "            # delete winners form list of applicants, so they don't get two pairs of skis\n",
    "            applicants = [person for person in applicants_all if person not in already_won]\n",
    "\n",
    "            demand = len(applicants)\n",
    "            stock = ss_inventory['Number'][item]\n",
    "\n",
    "            if demand > stock:\n",
    "                won = sample(applicants, int(stock))\n",
    "                won_dict_ski_readable[ski] += won\n",
    "            else:\n",
    "                won_dict_ski_readable[ski] += applicants\n",
    "                    \n",
    "\n",
    "# make a dict with the written name, better to check\n",
    "for ski, people in won_dict_ski_readable.items():\n",
    "    item = ski_indices[ski][0]\n",
    "    won_dict_ski[item] = people"
   ]
  },
  {
   "cell_type": "code",
   "execution_count": 19,
   "id": "balanced-suspect",
   "metadata": {},
   "outputs": [],
   "source": [
    "# Lottery on boots is kind of useless. When people got skis, they just have to find some boots that fit.\n",
    "# If you do the lottery on boots too, it is possible that someone gets skis, but no boots\n",
    "# rather do the lottery on skins"
   ]
  },
  {
   "cell_type": "code",
   "execution_count": 20,
   "id": "selected-uniform",
   "metadata": {},
   "outputs": [],
   "source": [
    "# get indices of boots\n",
    "boot_names = ('Fjellski shoes Telemark', 'Fjellski shoes BC', 'Cross Country shoes', 'Randonne ski boots', 'Freeride Boots', 'Snow board boots')\n",
    "boot_indices = {}\n",
    "\n",
    "won_dict_boots = {}\n",
    "\n",
    "for boots in boot_names:\n",
    "    # get the item numbers for every boot type\n",
    "    items_boots = ss_inventory.index[[boots in name for name in ss_inventory['Name']]]\n",
    "    boot_indices[boots] = items_boots # save inventory numbers for every kind of boot"
   ]
  },
  {
   "cell_type": "raw",
   "id": "higher-rogers",
   "metadata": {},
   "source": [
    "# get indices of boots\n",
    "sleeping_bags = ('Sleeping bag summer', 'Sleeping bag winter')\n",
    "sb_indices = {}\n",
    "\n",
    "won_dict_sb = {}\n",
    "\n",
    "for bag in sleeping_bags:\n",
    "    # get the item numbers for every boot type\n",
    "    items_bags = sk_inventory.index[[bag in name for name in sk_inventory['Name']]]\n",
    "    sb_indices[bag] = items_sb # save inventory numbers for every kind of boot"
   ]
  },
  {
   "cell_type": "code",
   "execution_count": 21,
   "id": "studied-painting",
   "metadata": {},
   "outputs": [],
   "source": [
    "# go through list of ski winners\n",
    "for ski, people in won_dict_ski_readable.items():        \n",
    "    # find boots for skis\n",
    "    index = ski_names.index(ski) # order of boot_names and order of ski_names has to match up\n",
    "    boots = boot_names[index]\n",
    "    \n",
    "    # find inventory numbers of those boots\n",
    "    items = boot_indices[boots]\n",
    "    # check demand for every inventory number\n",
    "    for item in items:\n",
    "        if item in want_dict_ss.keys(): # check if anybody wants this size of boots\n",
    "            applicants = want_dict_ss[item]\n",
    "            demand = len(applicants)\n",
    "            stock = ss_inventory['Number'][item]\n",
    "\n",
    "            if demand > stock:\n",
    "                won = sample(applicants, int(stock))\n",
    "                won_dict_boots[item] = won\n",
    "            else:\n",
    "                won_dict_boots[item] = applicants"
   ]
  },
  {
   "cell_type": "code",
   "execution_count": 22,
   "id": "ancient-frequency",
   "metadata": {},
   "outputs": [],
   "source": [
    "# delete skis and boots from want list snow scooter to not do the lottery on them again\n",
    "\n",
    "indices_to_delete = []\n",
    "for index in ski_indices.values():\n",
    "    indices_to_delete += [i for i in index]\n",
    "\n",
    "for index in boot_indices.values():\n",
    "    indices_to_delete += [i for i in index]\n",
    "\n",
    "for index in indices_to_delete:\n",
    "    if index in want_dict_ss.keys(): # only delte stuff from the list, if it is really in there\n",
    "        del want_dict_ss[index]"
   ]
  },
  {
   "cell_type": "raw",
   "id": "naughty-capitol",
   "metadata": {},
   "source": [
    "# begin of do the lottery once for every item if people applied for the same thing twice. Make a want_dict_twice with stuff they requested multiple times and do the lottery again\n",
    "clean_sk = {}\n",
    "clean_sk_multiples = {}\n",
    "\n",
    "for item, applicants in want_dict_sk.items():\n",
    "    clean_sk[item] = set(applicants)\n",
    "    \n",
    "    seen = []\n",
    "    for applicant in applica"
   ]
  },
  {
   "cell_type": "code",
   "execution_count": 23,
   "id": "lesbian-suspension",
   "metadata": {},
   "outputs": [],
   "source": [
    "# Lottery for the rest of the container\n",
    "# check demand of every item, and if neccessary, do the lottery\n",
    "\n",
    "won_dict_ss = do_lottery(want_dict_ss, inventory)\n",
    "won_dict_sk = do_lottery(want_dict_sk, inventory)"
   ]
  },
  {
   "cell_type": "code",
   "execution_count": 24,
   "id": "ignored-mason",
   "metadata": {},
   "outputs": [],
   "source": [
    "# now go through all the winner lists and gather the items one person has won\n",
    "\n",
    "def gather_wins(won_dict):\n",
    "    winners_dict = {}\n",
    "    \n",
    "    for item, winners in won_dict.items():\n",
    "        item_name = inventory['Name'][item]\n",
    "        for person in winners:\n",
    "            if person in winners_dict.keys():\n",
    "                winners_dict[person] += [item]\n",
    "            else:\n",
    "                winners_dict[person] = [item]\n",
    "    \n",
    "    return winners_dict\n",
    "\n",
    "winner_sk = gather_wins(won_dict_sk)\n",
    "winner_ss = gather_wins(won_dict_ss)\n",
    "winner_ski = gather_wins(won_dict_ski)"
   ]
  },
  {
   "cell_type": "code",
   "execution_count": 25,
   "id": "impressed-ethernet",
   "metadata": {},
   "outputs": [],
   "source": [
    "# add ski winners to the winner dict\n",
    "for name, ski in winner_ski.items():\n",
    "    if name in winner_ss.keys():\n",
    "        winner_ss[name] += ski\n",
    "    else:\n",
    "        winner_ss[name] = ski"
   ]
  },
  {
   "cell_type": "code",
   "execution_count": 26,
   "id": "dedicated-preservation",
   "metadata": {},
   "outputs": [],
   "source": [
    "# use item names instead of numbers\n",
    "def make_readable(winners, inventory):\n",
    "    winner_readable = {}\n",
    "    \n",
    "    for winner, item in winners.items():\n",
    "        names = [inventory['Name'][i] for i in item]\n",
    "        winner_readable[winner] = names\n",
    "    \n",
    "    return winner_readable"
   ]
  },
  {
   "cell_type": "code",
   "execution_count": 27,
   "id": "hindu-values",
   "metadata": {},
   "outputs": [],
   "source": [
    "winner_sk_readable = make_readable(winner_sk, inventory)\n",
    "winner_ss_readable = make_readable(winner_ss, inventory)"
   ]
  },
  {
   "cell_type": "code",
   "execution_count": 28,
   "id": "protecting-transportation",
   "metadata": {},
   "outputs": [],
   "source": [
    "def sort_by_name(winner_readable):\n",
    "    sorted_dict = {}\n",
    "    for name, items in sorted(winner_readable.items()):\n",
    "        sorted_dict[name] = items\n",
    "    \n",
    "    return sorted_dict\n",
    "\n",
    "# sort winner alphabeticaly\n",
    "sorted_sk = sort_by_name(winner_sk_readable)\n",
    "sorted_ss = sort_by_name(winner_ss_readable)"
   ]
  },
  {
   "cell_type": "code",
   "execution_count": 29,
   "id": "lesser-georgia",
   "metadata": {},
   "outputs": [],
   "source": [
    "# write everything to an excel sheet\n",
    "\n",
    "wb = xlwt.Workbook() \n",
    "line_width = 20\n",
    "\n",
    "style_header_container = xlwt.easyxf(\"alignment: wrap True; font: bold on, height 280\")\n",
    "style_header           = xlwt.easyxf(\"alignment: wrap True; borders: left thin, right thin, top thin, bottom thin; font: bold on\")\n",
    "style                  = xlwt.easyxf(\"alignment: wrap True, vert centre; borders: left thin, right thin, top thin, bottom thin\")\n",
    "\n",
    "  \n",
    "# create the first sheet for the Sjoeskrenten results\n",
    "sheet_sk = wb.add_sheet('Sjoerskrenten')\n",
    "# create the second sheet for the Snowscooter results\n",
    "sheet_ss = wb.add_sheet('Snowscooter')\n",
    "\n",
    "for sheet, result, header in zip([sheet_sk, sheet_ss], [sorted_sk, sorted_ss], ['Sjoeskrenten', 'Snowscooter']):\n",
    "    # set size for columns\n",
    "    sheet.col(0).width = 256 * line_width + 1000\n",
    "    sheet.col(1).width = 256 * line_width + 2000\n",
    "\n",
    "    sheet.col(2).width = 4000\n",
    "    sheet.col(3).width = 5000\n",
    "\n",
    "    sheet.write_merge(0, 0, 0, 1, '{h} {a}'.format(h=header, a=datetime.strftime(datetime.today(), '%d.%m.%Y')), style_header_container)\n",
    "    sheet.row(0).height_mismatch = True       # for the adjustment of the row height\n",
    "    sheet.row(0).height = 400\n",
    "\n",
    "    # write header\n",
    "    sheet.write(2, 0, 'Name', style_header)\n",
    "    sheet.write(2, 1, 'Equipment', style_header)\n",
    "    sheet.write(2, 2, 'Comments', style_header)\n",
    "    sheet.write(2, 3, 'Signature', style_header)\n",
    "\n",
    "    row = 3 #start row\n",
    "    for name, items in result.items():\n",
    "        # separate items by linebreak\n",
    "        formatted_items = ''\n",
    "        sheet.write(row, 0, name, style)\n",
    "        for item in items:\n",
    "            formatted_items = formatted_items + '\\n' + item\n",
    "\n",
    "        sheet.write(row, 1, formatted_items, style)\n",
    "        sheet.row(row).height_mismatch = True\n",
    "        sheet.row(row).height = (len(items) + 2) * 256\n",
    "        sheet.write(row, 2, '', style)\n",
    "        sheet.write(row, 3, '', style)\n",
    "\n",
    "        row = row + 1\n",
    "    \n",
    "wb.save(result_path)"
   ]
  },
  {
   "cell_type": "code",
   "execution_count": 30,
   "id": "requested-analysis",
   "metadata": {},
   "outputs": [],
   "source": [
    "# save the winners to file\n",
    "with open(Path(result_dir, winner_file_ss), 'wb') as fp:\n",
    "    pickle.dump(winner_ss, fp)\n",
    "    \n",
    "with open(Path(result_dir, winner_file_sk), 'wb') as fp:\n",
    "    pickle.dump(winner_sk, fp)"
   ]
  },
  {
   "cell_type": "code",
   "execution_count": 31,
   "id": "imposed-eligibility",
   "metadata": {},
   "outputs": [
    {
     "name": "stdout",
     "output_type": "stream",
     "text": [
      "Written results to /home/max/Downloads/SE_forms/2021-04-07/results/2021-04-07_handout.xls\n",
      "Written at 2021-04-07 17:11:26.078159\n",
      "Done.\n"
     ]
    }
   ],
   "source": [
    "print('Written results to {}'.format(result_path))\n",
    "print('Written at {}'.format(datetime.now()))\n",
    "print('Done.')"
   ]
  },
  {
   "cell_type": "code",
   "execution_count": 32,
   "id": "continent-phrase",
   "metadata": {},
   "outputs": [
    {
     "data": {
      "text/plain": [
       "[1120.0]"
      ]
     },
     "execution_count": 32,
     "metadata": {},
     "output_type": "execute_result"
    }
   ],
   "source": [
    "winner_ski['Lotte van Hazendonk']"
   ]
  },
  {
   "cell_type": "code",
   "execution_count": 33,
   "id": "yellow-contractor",
   "metadata": {},
   "outputs": [
    {
     "data": {
      "text/plain": [
       "[1120.0]"
      ]
     },
     "execution_count": 33,
     "metadata": {},
     "output_type": "execute_result"
    }
   ],
   "source": [
    "winner_ski['Max Nüßle']"
   ]
  },
  {
   "cell_type": "code",
   "execution_count": 34,
   "id": "prompt-berry",
   "metadata": {},
   "outputs": [
    {
     "data": {
      "text/plain": [
       "[1122.0]"
      ]
     },
     "execution_count": 34,
     "metadata": {},
     "output_type": "execute_result"
    }
   ],
   "source": [
    "winner_ski['Marjolein Gevers']"
   ]
  },
  {
   "cell_type": "code",
   "execution_count": 35,
   "id": "temporal-pleasure",
   "metadata": {},
   "outputs": [
    {
     "data": {
      "text/plain": [
       "['Wai Yin Cheung',\n",
       " 'Rainette Engbers',\n",
       " 'Karoline Brix Andersson',\n",
       " 'Louis Munk Klarup',\n",
       " 'Kristin Enevoldsen',\n",
       " 'Haldis Døvle Kalland',\n",
       " 'Florina Schalamon',\n",
       " 'Liz McMaster',\n",
       " 'Xenia Uffrecht',\n",
       " 'Emilie Os-Trandem',\n",
       " 'Pernille Eyde Nerlie',\n",
       " 'Jan Detampel',\n",
       " 'Sarah Heller',\n",
       " 'Andrea Gjestvang',\n",
       " 'Renato Sperandio Rodrigues',\n",
       " 'Daniel Heineken',\n",
       " 'Thibault Desjonquères',\n",
       " 'Julia Steckling',\n",
       " 'Alec Sherrill',\n",
       " 'Piitu Kurttila',\n",
       " 'Mariska Maria Hoogkamer ',\n",
       " 'Jonathan William Gair Ackroyd',\n",
       " 'Johanne Bækø',\n",
       " 'Sondre Wennberg',\n",
       " 'Maren Christine Hansen',\n",
       " 'Julia Hetmanek',\n",
       " 'Antoine MYSKIW',\n",
       " 'Emma Djurberg']"
      ]
     },
     "execution_count": 35,
     "metadata": {},
     "output_type": "execute_result"
    }
   ],
   "source": [
    "want_dict_ss[1175]"
   ]
  },
  {
   "cell_type": "code",
   "execution_count": null,
   "id": "inclusive-liability",
   "metadata": {},
   "outputs": [],
   "source": []
  }
 ],
 "metadata": {
  "kernelspec": {
   "display_name": "Python 3",
   "language": "python",
   "name": "python3"
  },
  "language_info": {
   "codemirror_mode": {
    "name": "ipython",
    "version": 3
   },
   "file_extension": ".py",
   "mimetype": "text/x-python",
   "name": "python",
   "nbconvert_exporter": "python",
   "pygments_lexer": "ipython3",
   "version": "3.8.3"
  }
 },
 "nbformat": 4,
 "nbformat_minor": 5
}
